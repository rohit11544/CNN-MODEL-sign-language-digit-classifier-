{
 "cells": [
  {
   "cell_type": "code",
   "execution_count": 1,
   "metadata": {},
   "outputs": [],
   "source": [
    "#### IMPORTING THE NECESSARY LIBRARYS ####\n",
    "\n",
    "import numpy as np\n",
    "import matplotlib.pyplot as plt\n",
    "import os\n",
    "import cv2\n",
    "from tqdm import tqdm\n",
    "import pickle\n",
    "from sklearn.model_selection import train_test_split"
   ]
  },
  {
   "cell_type": "code",
   "execution_count": 2,
   "metadata": {},
   "outputs": [],
   "source": [
    "#### GOING TO THE IMAGE DIRECTORY AND CONVERTING THE IMAGES TO THE REQUIRED SHAPE ####\n",
    "\n",
    "training_data = []\n",
    "\n",
    "# spacify the path to the directory that contains images \n",
    "DATADIR = r\"C:\\Users\\bvraju\\Desktop\\project_1\\image_model\\Sign-Language-Digits-Dataset\\Dataset\"\n",
    "CATEGORIES = [\"0\",\"1\",\"2\",\"3\",\"4\",\"5\",\"6\",\"7\",\"8\",\"9\"]\n",
    "\n",
    "\n",
    "def create_training_data():  #this function converts the images to array and creates the labels for them\n",
    "    for category in CATEGORIES:\n",
    "        path = os.path.join(DATADIR,category)\n",
    "        class_num = CATEGORIES.index(category)\n",
    "        for img in os.listdir(path):\n",
    "            try:\n",
    "                img_array = cv2.imread(os.path.join(path,img),cv2.IMREAD_GRAYSCALE)\n",
    "                new_array = cv2.resize(img_array,(100,100))\n",
    "                training_data.append([new_array,class_num])\n",
    "            except Exception as e:\n",
    "                pass\n",
    "\n",
    "            \n",
    "create_training_data()     # calling the function\n",
    "\n"
   ]
  },
  {
   "cell_type": "code",
   "execution_count": 3,
   "metadata": {},
   "outputs": [
    {
     "name": "stdout",
     "output_type": "stream",
     "text": [
      "image shape :  (100, 100) total examples (train + validation + test) =  2062\n"
     ]
    }
   ],
   "source": [
    "# printing the total number of examples and shape\n",
    "\n",
    "print(\"image shape : \",training_data[0][0].shape,\"total examples (train + validation + test) = \",len(training_data))"
   ]
  },
  {
   "cell_type": "code",
   "execution_count": 4,
   "metadata": {},
   "outputs": [],
   "source": [
    "# converting the labels into one hot vector\n",
    "\n",
    "\n",
    "X_data=[]\n",
    "y_data=[]\n",
    "for x,y in training_data:\n",
    "    X_label = x\n",
    "    y_label = y\n",
    "    X_data.append(X_label)\n",
    "    y_data.append(y_label)\n",
    "    \n",
    "num_class = 10\n",
    "y_oneHOT = np.eye(num_class)[y_data] \n",
    "y_oneHOT.shape"
   ]
  },
  {
   "cell_type": "code",
   "execution_count": 6,
   "metadata": {},
   "outputs": [],
   "source": [
    "# saving the labels and image array into files  \n",
    "    \n",
    "pickle_out = open('X_Data.pickle','wb')\n",
    "pickle.dump(X_data, pickle_out)\n",
    "pickle_out.close()\n",
    "\n",
    "pickle_out = open('y_Data.pickle', 'wb')\n",
    "pickle.dump(y_oneHOT, pickle_out)\n",
    "pickle_out.close()"
   ]
  },
  {
   "cell_type": "code",
   "execution_count": null,
   "metadata": {},
   "outputs": [],
   "source": [
    "# loading the data from the saved file (this step can be skipped)\n",
    "\n",
    "X_Temp = open('X_Data.pickle','rb')\n",
    "y_Temp = open('y_Data.pickle','rb')\n",
    " \n",
    "X = pickle.load(X_Temp)\n",
    "y = pickle.load(y_Temp)\n",
    "\n",
    "X_Temp.close()\n",
    "y_Temp.close()"
   ]
  },
  {
   "cell_type": "code",
   "execution_count": 1,
   "metadata": {},
   "outputs": [
    {
     "name": "stdout",
     "output_type": "stream",
     "text": [
      "number of total examples (training + valdation + testing) =  2062 2062\n",
      "(1752, 100, 100, 1) (1752, 10) (310, 100, 100, 1) (310, 10)\n"
     ]
    }
   ],
   "source": [
    "\n",
    "from sklearn.utils import shuffle  # shuffling the data\n",
    "X,y = shuffle(X,y, random_state=2)\n",
    "\n",
    "X = np.array(X).reshape(-1, 100,100, 1)  # converting the data into arrays\n",
    "X = np.array(X/255.0)\n",
    "y = np.array(y).reshape(-1,10)\n",
    "\n",
    "# spliting the data into training ,validation, testing sets (training set contains both training and validation set)\n",
    "\n",
    "X_train, X_test, y_train, y_test = train_test_split(X, y, test_size=0.15, random_state=2)\n",
    "print(\"number of total examples (training + valdation + testing) = \",len(X),len(y))\n",
    "print(X_train.shape,y_train.shape,X_test.shape,y_test.shape)"
   ]
  },
  {
   "cell_type": "code",
   "execution_count": 2,
   "metadata": {},
   "outputs": [],
   "source": [
    "#### IMPPORTING THE LIBRARIES REQUIRED FOR THE MODEL  ####\n",
    "\n",
    "import tensorflow as tf\n",
    "from tensorflow.keras.datasets import cifar10\n",
    "from tensorflow.keras.preprocessing.image import ImageDataGenerator\n",
    "from tensorflow.keras.models import Sequential\n",
    "from tensorflow.keras.layers import Dense, Dropout, Activation, Flatten\n",
    "from tensorflow.keras.layers import Conv2D, MaxPooling2D\n"
   ]
  },
  {
   "cell_type": "code",
   "execution_count": 3,
   "metadata": {},
   "outputs": [],
   "source": [
    "model = Sequential()  # creating the model \n",
    "\n",
    "model.add(Conv2D(64,(3,3),input_shape = X.shape[1:]))   #\n",
    "model.add(Activation(\"relu\"))                           # conv layer 1\n",
    "model.add(MaxPooling2D(pool_size=(2,2)))                #\n",
    "\n",
    "model.add(Conv2D(64,(3,3)))                             #\n",
    "model.add(Activation(\"relu\"))                           # conv layer 2\n",
    "model.add(MaxPooling2D(pool_size=(2,2)))                #\n",
    "\n",
    "\n",
    "model.add(Flatten())                                    #\n",
    "model.add(Dense(64))                                    # fully connected layer\n",
    "\n",
    "model.add(Dense(10))                                    #\n",
    "model.add(Activation('softmax'))                        # output layer \n",
    "\n",
    "model.compile(loss='categorical_crossentropy',\n",
    "            optimizer='adam',\n",
    "            metrics=['accuracy'])      # compiling the model"
   ]
  },
  {
   "cell_type": "code",
   "execution_count": 4,
   "metadata": {},
   "outputs": [
    {
     "name": "stdout",
     "output_type": "stream",
     "text": [
      "Model: \"sequential\"\n",
      "_________________________________________________________________\n",
      "Layer (type)                 Output Shape              Param #   \n",
      "=================================================================\n",
      "conv2d (Conv2D)              (None, 98, 98, 64)        640       \n",
      "_________________________________________________________________\n",
      "activation (Activation)      (None, 98, 98, 64)        0         \n",
      "_________________________________________________________________\n",
      "max_pooling2d (MaxPooling2D) (None, 49, 49, 64)        0         \n",
      "_________________________________________________________________\n",
      "conv2d_1 (Conv2D)            (None, 47, 47, 64)        36928     \n",
      "_________________________________________________________________\n",
      "activation_1 (Activation)    (None, 47, 47, 64)        0         \n",
      "_________________________________________________________________\n",
      "max_pooling2d_1 (MaxPooling2 (None, 23, 23, 64)        0         \n",
      "_________________________________________________________________\n",
      "flatten (Flatten)            (None, 33856)             0         \n",
      "_________________________________________________________________\n",
      "dense (Dense)                (None, 64)                2166848   \n",
      "_________________________________________________________________\n",
      "dense_1 (Dense)              (None, 10)                650       \n",
      "_________________________________________________________________\n",
      "activation_2 (Activation)    (None, 10)                0         \n",
      "=================================================================\n",
      "Total params: 2,205,066\n",
      "Trainable params: 2,205,066\n",
      "Non-trainable params: 0\n",
      "_________________________________________________________________\n"
     ]
    }
   ],
   "source": [
    "model.summary()     # summary of the model"
   ]
  },
  {
   "cell_type": "code",
   "execution_count": 5,
   "metadata": {},
   "outputs": [
    {
     "name": "stdout",
     "output_type": "stream",
     "text": [
      "Train on 1576 samples, validate on 176 samples\n",
      "Epoch 1/18\n",
      "1576/1576 [==============================] - 26s 16ms/sample - loss: 2.4188 - accuracy: 0.1447 - val_loss: 2.1545 - val_accuracy: 0.2955\n",
      "Epoch 2/18\n",
      "1576/1576 [==============================] - 25s 16ms/sample - loss: 1.5086 - accuracy: 0.5438 - val_loss: 1.0028 - val_accuracy: 0.7273\n",
      "Epoch 3/18\n",
      "1576/1576 [==============================] - 25s 16ms/sample - loss: 0.7736 - accuracy: 0.7392 - val_loss: 0.7309 - val_accuracy: 0.7557\n",
      "Epoch 4/18\n",
      "1576/1576 [==============================] - 25s 16ms/sample - loss: 0.5640 - accuracy: 0.8198 - val_loss: 0.6512 - val_accuracy: 0.7898\n",
      "Epoch 5/18\n",
      "1576/1576 [==============================] - 25s 16ms/sample - loss: 0.4643 - accuracy: 0.8566 - val_loss: 0.5940 - val_accuracy: 0.8125\n",
      "Epoch 6/18\n",
      "1576/1576 [==============================] - 25s 16ms/sample - loss: 0.3861 - accuracy: 0.8801 - val_loss: 0.5669 - val_accuracy: 0.8352\n",
      "Epoch 7/18\n",
      "1576/1576 [==============================] - 25s 16ms/sample - loss: 0.3216 - accuracy: 0.9029 - val_loss: 0.5730 - val_accuracy: 0.8068\n",
      "Epoch 8/18\n",
      "1576/1576 [==============================] - 25s 16ms/sample - loss: 0.2690 - accuracy: 0.9175 - val_loss: 0.5191 - val_accuracy: 0.8295\n",
      "Epoch 9/18\n",
      "1576/1576 [==============================] - 25s 16ms/sample - loss: 0.2192 - accuracy: 0.9359 - val_loss: 0.5739 - val_accuracy: 0.8182\n",
      "Epoch 10/18\n",
      "1576/1576 [==============================] - 25s 16ms/sample - loss: 0.1986 - accuracy: 0.9353 - val_loss: 0.5872 - val_accuracy: 0.8182\n",
      "Epoch 11/18\n",
      "1576/1576 [==============================] - 25s 16ms/sample - loss: 0.1589 - accuracy: 0.9562 - val_loss: 0.5929 - val_accuracy: 0.8239\n",
      "Epoch 12/18\n",
      "1576/1576 [==============================] - 25s 16ms/sample - loss: 0.1009 - accuracy: 0.9784 - val_loss: 0.5429 - val_accuracy: 0.8466\n",
      "Epoch 13/18\n",
      "1576/1576 [==============================] - 25s 16ms/sample - loss: 0.0795 - accuracy: 0.9835 - val_loss: 0.5348 - val_accuracy: 0.8580\n",
      "Epoch 14/18\n",
      "1576/1576 [==============================] - 25s 16ms/sample - loss: 0.0813 - accuracy: 0.9772 - val_loss: 0.6381 - val_accuracy: 0.8125\n",
      "Epoch 15/18\n",
      "1576/1576 [==============================] - 25s 16ms/sample - loss: 0.0594 - accuracy: 0.9892 - val_loss: 0.6165 - val_accuracy: 0.8352\n",
      "Epoch 16/18\n",
      "1576/1576 [==============================] - 25s 16ms/sample - loss: 0.0427 - accuracy: 0.9930 - val_loss: 0.6532 - val_accuracy: 0.8295\n",
      "Epoch 17/18\n",
      "1576/1576 [==============================] - 25s 16ms/sample - loss: 0.0315 - accuracy: 0.9943 - val_loss: 0.6334 - val_accuracy: 0.8295\n",
      "Epoch 18/18\n",
      "1576/1576 [==============================] - 25s 16ms/sample - loss: 0.0186 - accuracy: 0.9994 - val_loss: 0.6428 - val_accuracy: 0.8352\n"
     ]
    }
   ],
   "source": [
    "#### TRAINING THE MODEL ####\n",
    "num_epochs = 18 \n",
    "hist=model.fit(X_train,y_train,batch_size=32,epochs=num_epochs,validation_split=0.10) "
   ]
  },
  {
   "cell_type": "code",
   "execution_count": 7,
   "metadata": {},
   "outputs": [
    {
     "data": {
      "image/png": "[encoded data removed]",
      "text/plain": [
       "<Figure size 504x360 with 1 Axes>"
      ]
     },
     "metadata": {
      "needs_background": "light"
     },
     "output_type": "display_data"
    },
    {
     "data": {
      "image/png": "[encoded data removed]",
      "text/plain": [
       "<Figure size 504x360 with 1 Axes>"
      ]
     },
     "metadata": {
      "needs_background": "light"
     },
     "output_type": "display_data"
    }
   ],
   "source": [
    "\n",
    "# visualizing losses and accuracy\n",
    "\n",
    "train_loss=hist.history['loss']\n",
    "val_loss=hist.history['val_loss']\n",
    "train_acc=hist.history['accuracy']\n",
    "val_acc=hist.history['val_accuracy']\n",
    "xc=range(num_epochs)\n",
    "\n",
    "plt.figure(1,figsize=(7,5))\n",
    "plt.plot(xc,train_loss)\n",
    "plt.plot(xc,val_loss)\n",
    "plt.xlabel('num of Epochs')\n",
    "plt.ylabel('loss')\n",
    "plt.title('train_loss vs val_loss')\n",
    "plt.grid(True)\n",
    "plt.legend(['train','val'])\n",
    "#print plt.style.available # use bmh, classic,ggplot for big pictures\n",
    "#plt.style.use(['classic'])\n",
    "\n",
    "plt.figure(2,figsize=(7,5))\n",
    "plt.plot(xc,train_acc)\n",
    "plt.plot(xc,val_acc)\n",
    "plt.xlabel('num of Epochs')\n",
    "plt.ylabel('accuracy')\n",
    "plt.title('train_acc vs val_acc')\n",
    "plt.grid(True)\n",
    "plt.legend(['train','val'],loc=4)\n",
    "#print plt.style.available # use bmh, classic,ggplot for big pictures\n",
    "#plt.style.use(['classic'])\n",
    "\n",
    "plt.show()"
   ]
  },
  {
   "cell_type": "code",
   "execution_count": 8,
   "metadata": {},
   "outputs": [
    {
     "name": "stdout",
     "output_type": "stream",
     "text": [
      "press 1 to continue...1\n",
      "saved the new weights\n"
     ]
    }
   ],
   "source": [
    "#### SAVING THE TRAINED WEIGHTS (helps not to train the model multiple number of times) ####\n",
    "\n",
    "sure = int(input(\"press 1 to continue...\"))\n",
    "if sure == 1:\n",
    "    fname = \"trained_weights.10val\"\n",
    "    model.save_weights(fname , overwrite=True)\n",
    "    print(\"saved the new weights\")\n",
    "else:\n",
    "    print(\"no new weights are saved\")    "
   ]
  },
  {
   "cell_type": "code",
   "execution_count": 9,
   "metadata": {},
   "outputs": [
    {
     "data": {
      "text/plain": [
       "<tensorflow.python.training.tracking.util.CheckpointLoadStatus at 0x2c94ab72608>"
      ]
     },
     "execution_count": 9,
     "metadata": {},
     "output_type": "execute_result"
    }
   ],
   "source": [
    "# loading the weights (this step can be skipped)\n",
    "\n",
    "fname = \"trained_weights.10val\"\n",
    "model.load_weights(fname)"
   ]
  },
  {
   "cell_type": "code",
   "execution_count": 41,
   "metadata": {},
   "outputs": [
    {
     "name": "stdout",
     "output_type": "stream",
     "text": [
      "310 (310, 1)\n"
     ]
    }
   ],
   "source": [
    "#### TESTING THE TRAINED MODEL WITH TEST SET #### \n",
    "\n",
    "predected=model.predict_classes([X_test]) \n",
    "predected = predected.reshape(-1,1)\n",
    "print(len(predected),predected.shape)"
   ]
  },
  {
   "cell_type": "code",
   "execution_count": 42,
   "metadata": {},
   "outputs": [],
   "source": [
    "#  these are the labels to the testing set (converting the labels from one hot to corresponding classes )\n",
    "y_test_one=[]\n",
    "for onehot in y_test:\n",
    "    i=0\n",
    "    for j in onehot:\n",
    "        if j==1:\n",
    "            y_test_one.append(i)\n",
    "        i+=1\n",
    "y_test = np.array(y_test_one).reshape(-1,1)     "
   ]
  },
  {
   "cell_type": "code",
   "execution_count": 43,
   "metadata": {},
   "outputs": [
    {
     "name": "stdout",
     "output_type": "stream",
     "text": [
      "accuracy on test :  0.8258064516129032\n"
     ]
    }
   ],
   "source": [
    "#### CALCULATING THE ACCURACY ON THE TEST SET ####\n",
    "\n",
    "count=0\n",
    "for i in range(310):\n",
    "    if predected[i]==y_test_one[i]:\n",
    "        count+=1\n",
    "print(\"accuracy on test : \",count/len(X_test))  "
   ]
  }
 ],
 "metadata": {
  "kernelspec": {
   "display_name": "Python 3",
   "language": "python",
   "name": "python3"
  },
  "language_info": {
   "codemirror_mode": {
    "name": "ipython",
    "version": 3
   },
   "file_extension": ".py",
   "mimetype": "text/x-python",
   "name": "python",
   "nbconvert_exporter": "python",
   "pygments_lexer": "ipython3",
   "version": "3.7.6"
  }
 },
 "nbformat": 4,
 "nbformat_minor": 4
}
